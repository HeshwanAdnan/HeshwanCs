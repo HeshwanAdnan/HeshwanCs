{
  "nbformat": 4,
  "nbformat_minor": 0,
  "metadata": {
    "colab": {
      "provenance": [],
      "authorship_tag": "ABX9TyMf2lUJhWHUB3RWEClqE14C",
      "include_colab_link": true
    },
    "kernelspec": {
      "name": "python3",
      "display_name": "Python 3"
    },
    "language_info": {
      "name": "python"
    }
  },
  "cells": [
    {
      "cell_type": "markdown",
      "metadata": {
        "id": "view-in-github",
        "colab_type": "text"
      },
      "source": [
        "<a href=\"https://colab.research.google.com/github/HeshwanAdnan/HeshwanCs/blob/main/Untitled0.ipynb\" target=\"_parent\"><img src=\"https://colab.research.google.com/assets/colab-badge.svg\" alt=\"Open In Colab\"/></a>"
      ]
    },
    {
      "cell_type": "code",
      "execution_count": 13,
      "metadata": {
        "colab": {
          "base_uri": "https://localhost:8080/"
        },
        "id": "XGFOKFfiyRmc",
        "outputId": "e7c93ab2-beda-4767-ec3c-8a9d3840894a"
      },
      "outputs": [
        {
          "output_type": "stream",
          "name": "stdout",
          "text": [
            "Root found: 1.4422494652620135 (within 12 iterations)\n"
          ]
        }
      ],
      "source": [
        "def false_position_method(f, a, b, tol=1e-6, max_iter=100):\n",
        "\n",
        "\n",
        "\n",
        "    if f(a) * f(b) > 0:\n",
        "        raise ValueError(\"The signs of f(a) and f(b) must be opposite.\")\n",
        "\n",
        "\n",
        "    root = None\n",
        "    iterations = 0\n",
        "\n",
        "    while iterations < max_iter:\n",
        "\n",
        "        c = (a * f(b) - b * f(a)) / (f(b) - f(a))\n",
        "\n",
        "\n",
        "        if abs(f(c)) < tol:\n",
        "            root = c\n",
        "            break\n",
        "\n",
        "\n",
        "        if f(c) * f(a) < 0:\n",
        "            b = c\n",
        "        else:\n",
        "            a = c\n",
        "\n",
        "        iterations += 1\n",
        "\n",
        "    return root, iterations\n",
        "\n",
        "\n",
        "def f(x):\n",
        "    return x **3- 3\n",
        "\n",
        "\n",
        "a = 1\n",
        "b = 2\n",
        "\n",
        "\n",
        "root, iterations = false_position_method(f, a, b)\n",
        "\n",
        "\n",
        "if root is not None:\n",
        "    print(f\"Root found: {root} (within {iterations} iterations)\")\n",
        "else:\n",
        "    print(\"The method did not converge within the maximum number of iterations.\")\n"
      ]
    }
  ]
}